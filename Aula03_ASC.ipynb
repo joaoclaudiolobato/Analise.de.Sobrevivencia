{
 "cells": [
  {
   "cell_type": "markdown",
   "id": "c39d2c9d",
   "metadata": {},
   "source": [
    "##  <span style= \"color:blue\">IEE065 - Análise de Sobrevivência e Confiabilidade\n",
    "#### Amazoneida Sá Peixoto Pinheiro\n",
    "  Professora Associada do Depto. Estatística - UFAM\n",
    "### Aula-03: Fundamentos da Análise de Sobrevivência e Confiabilidade\n",
    "#### Data: 18/01/2022"
   ]
  },
  {
   "cell_type": "markdown",
   "id": "2a5605d2",
   "metadata": {},
   "source": [
    "## <span style= \"color:red\"> Caracterizando os  Dados de Sobrevivência"
   ]
  },
  {
   "cell_type": "markdown",
   "id": "566da73e",
   "metadata": {},
   "source": [
    "### Tempo de sobrevivência no R."
   ]
  },
  {
   "cell_type": "markdown",
   "id": "8ec3ce81",
   "metadata": {},
   "source": [
    "O R aceita os dois formatos de registro do tempo de sobrevivência.\n",
    "\n",
    "     * O comando Surv() tem como função combinar, em uma única variável, a informação   referente ao tempo de sobrevivência de cada indivíduo e a informação a respeito do status do paciente.\n",
    "       Status = 1 (um), se ocorreu o evento Status = 0 (zero) se o tempo foi censurado;"
   ]
  },
  {
   "cell_type": "code",
   "execution_count": 3,
   "id": "c8566387",
   "metadata": {},
   "outputs": [],
   "source": [
    "tempo<-c(22,6,12,43,23,10,35,18,36,29)\n",
    "status<-c(1,0,1,0,1,1,1,0,1,1)"
   ]
  },
  {
   "cell_type": "code",
   "execution_count": 5,
   "id": "e1b329f8",
   "metadata": {},
   "outputs": [
    {
     "data": {
      "text/plain": [
       " [1] 22   6+ 12  43+ 23  10  35  18+ 36  29 "
      ]
     },
     "metadata": {},
     "output_type": "display_data"
    }
   ],
   "source": [
    "# Notação Clássica no R\n",
    "require(survival)\n",
    "Surv(tempo,status)\n"
   ]
  },
  {
   "cell_type": "code",
   "execution_count": 6,
   "id": "65ddb8f9",
   "metadata": {},
   "outputs": [
    {
     "data": {
      "text/plain": [
       " [1] ( 0,22]  (15,21+] ( 0,12]  (25,47+] (10,33]  ( 0,10]  ( 0,35]  (12,30+]\n",
       " [9] ( 3,39]  (15,34] "
      ]
     },
     "metadata": {},
     "output_type": "display_data"
    }
   ],
   "source": [
    "# Processo de Contagem no R\n",
    "inicio<-c(0,15,0,25,10,0,0,12,3,15)\n",
    "fim<-c(22,21,12,47,33,10,35,30,39,34)\n",
    "Surv(inicio,fim,status)"
   ]
  },
  {
   "cell_type": "markdown",
   "id": "458767b6",
   "metadata": {},
   "source": [
    "## <span style= \"color:red\"> Exercícios"
   ]
  },
  {
   "cell_type": "markdown",
   "id": "6910d56f",
   "metadata": {},
   "source": [
    "http://sobrevida.fiocruz.br"
   ]
  },
  {
   "cell_type": "markdown",
   "id": "ff10584f",
   "metadata": {},
   "source": [
    " **Exercício 1.1** O tempo de aleitamento, isto é, o tempo decorrido desde o nascimento até o desmame, pode ser considerado como uma variável tempo de sobrevivência. Suponha que o tempo até o desmame, em meses, tenha sido registrado para 15 crianças e que todas entraram no estudo no mesmo dia:\n",
    "\n",
    "Tempos de aleitamento: 6 12 10 3 5 1 6 8 1 5 2 2 5 8 1 Considerando que não houve censura:\n",
    "\n",
    "a. Represente graficamente os tempos de observação das 15 crianças.\n",
    "\n",
    "b. Represente as trajetórias dos primeiros cinco indivíduos utilizando as variáveis N(t) e Y (t) do processo de contagem.\n",
    "\n",
    "c. Como você construiria um banco de dados para analisar estes dados pelo processo clássico e de contagem?"
   ]
  },
  {
   "cell_type": "markdown",
   "id": "3c9df5af",
   "metadata": {},
   "source": [
    "**Exercício 1.2:** Considere agora o tempo de sobrevivência de 15 pacientes submetidos à hemodiálise. Neste caso, a variável de interesse é o tempo desde a primeira diálise até o óbito (em meses). Repita os itens a,b e c do ex anterior."
   ]
  },
  {
   "cell_type": "markdown",
   "id": "04dbf879",
   "metadata": {},
   "source": [
    "**Exercício 1.3:** Considere os dados de 6 indivíduos em uma coorte para a avaliação de fatores de risco para a infecção por HIV. O estudo iniciou-se em 01/06/2008 quando 2 indivíduos entraram no estudo, com resultados negativos para a infecção. Um deles ao realizar o segundo exame, um mês depois, teve resultado positivo, o outro positivou depois de 2 meses. Os outros 4 indivíduos realizaram seus primeiros exames em 01/07, 01/09, 01/08 e 01/08, e as suas respectivas datas de soroconversões foram 2, 3, 2 e 5 meses, após a entrada.\n",
    "\n",
    "a. Construa a base de dados no formato clássico e de contagem.\n",
    "\n",
    "b. Represente graficamente os tempos observados desses indivíduos \n",
    "\n",
    "c. Que tipo de censura ocorreu no estudo?\n",
    "\n",
    "d. Em que situação haveria truncamento?\n"
   ]
  },
  {
   "cell_type": "markdown",
   "id": "cd5824f0",
   "metadata": {},
   "source": [
    "**Exercício 1.4:**  Para se familiarizar com o R e com o banco de dados do IPEC (ipec.csv, veja o Apêndice, seção AIDS – clássico) que será utilizado nos próximos capítulos, inicie a análise de sobrevivência observando os dados dos pacientes:\n",
    "\n",
    "a. Noformato clássico;\n",
    "\n",
    "b. Noformatodeprocesso de contagem;\n",
    "\n",
    "c. Observe a saída nos dois formatos. Quais os tempos e status do 1o e 79o pacientes em cada um dos formatos?\n",
    "\n",
    "d. Organize o banco e faça uma análise exploratória das variáveis de interesse:\n",
    "\n",
    "    * Verifique as dimensões dos dados;\n",
    "    \n",
    "    * Veja quais são as variáveis que constam no arquivo de dados;\n",
    "    \n",
    "    * Substitua as informações ignoradas codificadas com 9/99 ou I por NA (padrão do R)\n",
    "\n",
    "    * Indique ao R quais são as variáveis que estão erroneamente classificadas como    numéricas pelo R (isso acontece quando números são usados para codificar as categorias).\n",
    "    \n",
    "    * Faça uma análise exploratória e descritiva das variáveis mais relevantes, usando medidas de sumarização, gráficos e diagramas.\n"
   ]
  },
  {
   "cell_type": "code",
   "execution_count": null,
   "id": "bd93b7c5",
   "metadata": {},
   "outputs": [],
   "source": []
  }
 ],
 "metadata": {
  "kernelspec": {
   "display_name": "R",
   "language": "R",
   "name": "ir"
  },
  "language_info": {
   "codemirror_mode": "r",
   "file_extension": ".r",
   "mimetype": "text/x-r-source",
   "name": "R",
   "pygments_lexer": "r",
   "version": "4.0.2"
  }
 },
 "nbformat": 4,
 "nbformat_minor": 5
}
