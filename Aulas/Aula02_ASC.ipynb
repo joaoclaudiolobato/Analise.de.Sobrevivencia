{
 "cells": [
  {
   "cell_type": "markdown",
   "id": "3b9ad12f",
   "metadata": {},
   "source": [
    "##  <span style= \"color:blue\">IEE065 - Análise de Sobrevivência e Confiabilidade\n",
    "#### Aluno: João Claudio da Silva Araujo Lobato\n",
    "##### Amazoneida Sá Peixoto Pinheiro - Professora Associada do Depto. Estatística - UFAM\n",
    "### Aula-02: Fundamentos da Análise de Sobrevivência e Confiabilidade\n",
    "#### Data: 13/01/2022"
   ]
  },
  {
   "cell_type": "markdown",
   "id": "c6fcd339",
   "metadata": {},
   "source": [
    "## <span style= \"color:red\"> Caracterizando os  Dados de Sobrevivência"
   ]
  },
  {
   "cell_type": "markdown",
   "id": "d0d8224a",
   "metadata": {},
   "source": [
    "### 1. Objeto de interesse: \n",
    "\n",
    "**O Tempo**, interpretado como o tempo até a ocorência de um evento, ou o risco de ocorrência de um evento por unidade de tempo. \n",
    "\n",
    "Exemplos: \n",
    "\n",
    "O tempo até o óbito, O tempo até a cura, o tempo até a doença, o tempo até a falha do produto, o tempo de prateleira de um produto no supermercado, o tempo de revisão de um carro. o tempo  de garantia de um produto\n",
    "\n",
    "**Perguntas passíveis de respostas nesta abordagem**\n",
    "\n",
    "Qual o efeito de um anticancerígeno sobre o tempo de sobrevida?\n",
    "\n",
    "Qual o efeito de um tipo de aglutinante na duração de um cimento?\n",
    "\n",
    "Qual efeito da unidade assistencial na sobrevida após um infarto agudo do miocárdio?"
   ]
  },
  {
   "cell_type": "markdown",
   "id": "ed744e7b",
   "metadata": {},
   "source": [
    "### 2. Tipos de investigação:\n",
    "\n",
    "Algumas pesquisas de sobrevivência envolvem acompanhamento de indivíduos por um longo tempo.\n",
    "\n",
    "**2.1. Levantamentos Observacionais - Coortes Observacionais:** O pesquisador apenas obs e registra, com ojetivo de de identificar fatores de risco. Há Coortes abertas e fechadas.\n",
    "        Exemplo: Suponha um estudo sobre fatores de risco associados ao tempo de sobrevivência após uma crise hipertensiva grave\n",
    "\n",
    "    Coorte fechada: Partiria de todos os indivíduos que apresentaram um episódio de hipertensão em um período determinado e os acompaharia por um tempo relevante.\n",
    "    Coorte aberta: Os indivíduos podem entrar após o estudo iniciar-se.\n",
    "\n",
    "**2.2. Experimentação, Coortes intervenção - Ensaios Clínicos**: O pesquisador intenvém na alocação  aleatória dos tratamentos, com objetivo de verificar a eficiência dos mesmos.A alocação aleatória se dá no início do estudo."
   ]
  },
  {
   "cell_type": "markdown",
   "id": "c7e7ebf9",
   "metadata": {},
   "source": [
    "### 3. Registro e Representação do Tempo de Sobrevida\n",
    "\n",
    "A Tabela abaixo apresenta o tempo de sobrevida (meses) de 10 pacientes em diálise. "
   ]
  },
  {
   "cell_type": "markdown",
   "id": "129219ab",
   "metadata": {},
   "source": [
    "| Paciente – i \t| Tempo – $T_i$ \t|\n",
    "|--------------\t|------------\t|\n",
    "| 1            \t| 22         \t|\n",
    "| 2            \t| 6          \t|\n",
    "| 3            \t| 12         \t|\n",
    "| 4            \t| 43         \t|\n",
    "| 5            \t| 23         \t|\n",
    "| 6            \t| 10         \t|\n",
    "| 7            \t| 35         \t|\n",
    "| 8            \t| 18         \t|\n",
    "| 9            \t| 36         \t|\n",
    "| 10           \t| 29         \t|\n",
    "   "
   ]
  },
  {
   "cell_type": "markdown",
   "id": "8eeba919",
   "metadata": {},
   "source": [
    "Estes dados podem ser representados graficamente como linhas: No eixo das abscissas está o tempo de acompanhamento e no eixo das ordenadas está o identificador do paciente. No momento do óbito está assilalado um X.\n",
    "Ver figura\n",
    "http://sobrevida.fiocruz.br/material/slidesintro.pdf\n",
    "\n",
    "O evento que marca o término do tempo de obs., também é chamado de **falha ou desfecho**\n",
    "No exemplo da Tabela acima, as informações  estão completas, isto é o início da diálise e o momento do óbito são conhecidos para todos os indivíduos.\n",
    "\n",
    "   "
   ]
  },
  {
   "cell_type": "markdown",
   "id": "0dc58a4c",
   "metadata": {},
   "source": [
    "### <span style= \"color:red\">3.1 Informações Incompletas"
   ]
  },
  {
   "cell_type": "markdown",
   "id": "943dc733",
   "metadata": {},
   "source": [
    "Este exemploe não é muito realista, dificilmente em uma Coorte os indivíduos são acompanhados até a ocorrência do evento de interesse e muitas vezes não se conhece a data de início a data de início do acompanhamento da coorte. As causas da perda da informação temporal são várias:\n",
    "\n",
    "        * óbito por causas não relacionadas ao estudo, causas externas.\n",
    "        \n",
    "        * término do estudo;\n",
    "        \n",
    "        * perda de contato - mudança de residência;\n",
    "        \n",
    "        * recusa em continuar participando do estudo;\n",
    "        \n",
    "        * mudança de procedimento – esquema de tratamento;\n",
    "        \n",
    "        * abandono devido a efeitos adversos de tratamento;\n",
    "        \n",
    "        * desconhecimento da data de início – em pacientes HIV+ com data de infecção é   desconhecida\n",
    "        \n",
    "   Nestes casos diz-se que houve **Censura ou  Truncamento**\n"
   ]
  },
  {
   "cell_type": "markdown",
   "id": "e3c7fb78",
   "metadata": {},
   "source": [
    "### <span style= \"color:purple\">3.1.1 Censura"
   ]
  },
  {
   "cell_type": "markdown",
   "id": "dba9b6cd",
   "metadata": {},
   "source": [
    "As censuras podem ser por limitação de tempo ou por número de indivíduos com desfecho.\n",
    "\n",
    "| Paciente – i \t| Tempo – Ti \t| Status- $\\delta_i$ \t|\n",
    "|--------------\t|------------\t|------------\t|\n",
    "| 1            \t| 22         \t| 1          \t|\n",
    "| 2            \t| 6          \t| 0          \t|\n",
    "| 3            \t| 12         \t| 1          \t|\n",
    "| 4            \t| 43         \t| 0          \t|\n",
    "| 5            \t| 23         \t| 1          \t|\n",
    "| 6            \t| 10         \t| 1          \t|\n",
    "| 7            \t| 35         \t| 1          \t|\n",
    "| 8            \t| 18         \t| 0          \t|\n",
    "| 9            \t| 36         \t| 1          \t|\n",
    "| 10           \t| 29         \t| 1          \t|"
   ]
  },
  {
   "cell_type": "markdown",
   "id": "0fe10964",
   "metadata": {},
   "source": [
    "### Censura `a direita: \n",
    "\n",
    "* É a mais comum. Não se observa o desfecho.\n",
    "\n",
    "* Sabe-se que o tempo entre o início do estudo e o evento é maior do que o tempo observado.\n",
    "\n",
    "* Nesse caso aproveita-se a informação do tempo durante o qual a pessoa esteve sob observação sem que ocorresse o evento.\n",
    "\n",
    "* Desprezar essa informação faria com que o risco fosse superestimado, pois o tempo atéa evento é desconhecido, mas o paciente estava em risco de sofrer o evento pelo menos até o último momento observado.\n",
    "\n",
    "* $T > T_{obs}$"
   ]
  },
  {
   "cell_type": "markdown",
   "id": "ede3d595",
   "metadata": {},
   "source": [
    "$(T_i, \\delta_i)$ - Notação Clássica para dados com censura à direita onde:\n",
    "\n",
    "$T_i$ é o tempo de observação do indivíduo i e'\n",
    "\n",
    "$\\delta_i$ é uma variável indicadora do status, que assume 1 se o desfecho ocorreu e 0 se se indivíduo foi censurado.\n",
    "\n",
    "Assim Paciente 3:$(T_3,\\delta_3)=(12,1)$\n",
    "\n",
    "   Paciente 8:$(T_8,\\delta_8)=(18,0)$"
   ]
  },
  {
   "cell_type": "markdown",
   "id": "465b951d",
   "metadata": {},
   "source": [
    "### Outros tipos de Censura"
   ]
  },
  {
   "cell_type": "markdown",
   "id": "569410ac",
   "metadata": {},
   "source": [
    "**Censura à esquerda**:\n",
    "\n",
    "O momento do desfecho é desconhecido e ocorreu antes do tempo observado.\n",
    "Exemplo: Considere um estudo para investigar fatores associados à infecção de Leptospirose em uma comunidade de baixa renda. Os participantes são incluídos assim que mudam de área. Uma vez a cada 6 meses os pesquisadores fazem o teste sangue para verificar a presença do vírus. Alguns participantes logo na primeira coleta já estavam contaminados, ou seja a contaminação pode ter acontecido entre o dia da mudança para comunidade e  o alguns dia antes do 1o exame. \n",
    "\n",
    "Só podemos afirmar que tempo de soroconversão, que define o tempo de sobrevivência é menor que o tempo do 1o. exame, ou seja: $(T < T_{obs})$"
   ]
  },
  {
   "cell_type": "markdown",
   "id": "c8452b12",
   "metadata": {},
   "source": [
    "### 3.1.2 Truncamento:**"
   ]
  },
  {
   "cell_type": "markdown",
   "id": "e45148ee",
   "metadata": {},
   "source": [
    "É um tipos de dado incompleto, no qual o indivíduo é retirado do estudo."
   ]
  },
  {
   "cell_type": "markdown",
   "id": "3a2d0d51",
   "metadata": {},
   "source": [
    "\n",
    "### 3.2 Tipos de Notação\n",
    "\n",
    "1. Clássica\n",
    "\n",
    "2. Processo de Contagem\n"
   ]
  },
  {
   "cell_type": "markdown",
   "id": "ad538e65",
   "metadata": {},
   "source": [
    "### Processo de Contagem.\n",
    "\n",
    "Na notação Clássica é apenas registrado o tempo em que o indivíduo foi observado.\n",
    "Na abordagem de contagem, define-se algumas variáveis:\n",
    "\n"
   ]
  },
  {
   "cell_type": "markdown",
   "id": "8fe7c487",
   "metadata": {},
   "source": [
    "O tempo de sobrevivência passa ser descrito por uma par de variáveis:\n",
    "$(N_i(t), Y_i(t))$ se modificam com o tempo.\n",
    "\n",
    "$N_i(t)$ - É o número de eventos sofridos pelo indivíduo no intervalo [0,t]\n",
    "\n",
    "$Y_i(t)$ - É uma binária, indicadora da presença da pop. em risco\n",
    "\n",
    "$Y_i(t) = 1$, se o ind. i ele está sob obs e em risco de sofrer a doença.\n",
    "\n",
    "$Y_i(t) = 0$, se o ind. não está mais em obs. portanto, não está mais sob risco"
   ]
  },
  {
   "cell_type": "markdown",
   "id": "92b1a971",
   "metadata": {},
   "source": [
    "### Exercício\n",
    "\n",
    "Exercício da Tabela de Contagem do slide de http://sobrevida.fiocruz.br/material/slidesintro.pdf"
   ]
  }
 ],
 "metadata": {
  "kernelspec": {
   "display_name": "R",
   "language": "R",
   "name": "ir"
  },
  "language_info": {
   "codemirror_mode": "r",
   "file_extension": ".r",
   "mimetype": "text/x-r-source",
   "name": "R",
   "pygments_lexer": "r",
   "version": "4.0.2"
  }
 },
 "nbformat": 4,
 "nbformat_minor": 5
}
