{
 "cells": [
  {
   "cell_type": "markdown",
   "id": "da888273",
   "metadata": {},
   "source": [
    "##  <span style= \"color:blue\">IEE065 - Análise de Sobrevivência e Confiabilidade\n",
    "#### Amazoneida Sá Peixoto Pinheiro\n",
    "  Professora Associada do Depto. Estatística - UFAM\n",
    "### Aula 05: Tópico II: Funções Básicas de Sobrevivência\n",
    "#### Data: 25/01/2022"
   ]
  },
  {
   "cell_type": "markdown",
   "id": "3abc0244",
   "metadata": {},
   "source": []
  },
  {
   "cell_type": "markdown",
   "id": "9bdc93bc",
   "metadata": {},
   "source": [
    "A aula de hoje irá revisar as principais funções na ASC e outras quantidades básicas. Para compreender melhor as definições, um exercício que deverá ser entreque na próxima aula juntamente com os exercícios anteriores."
   ]
  },
  {
   "cell_type": "markdown",
   "id": "15efb711",
   "metadata": {},
   "source": [
    "## <span style= \"color:red\">Outras Quantidades de Interesse na ASC"
   ]
  },
  {
   "cell_type": "markdown",
   "id": "c7ce0d03",
   "metadata": {},
   "source": [
    "#### 1. Tempo Médio \n",
    "\n",
    "* Como calcular o Tempo médio de vida de um paciente ?\n",
    "\n",
    "* Considerendo T como uma v.a contínua e não negativa, então o Tempo médio de vida:\n",
    "\n",
    " ### $\\mu_T=E[T]=\\int_0 ^{\\infty} t f(t)dt$\n",
    " \n",
    " \n",
    "* também pode ser obtido pela área sob a função de sobrevivêencia: \n",
    "\n",
    " ### $\\mu_T=\\int_0 ^{\\infty}(1-F(u)du= \\int_0 ^{\\infty}S(t)dt$\n"
   ]
  },
  {
   "cell_type": "markdown",
   "id": "2fac10ed",
   "metadata": {},
   "source": [
    "#### 2. Vida Média  Residual - vmr(t)"
   ]
  },
  {
   "cell_type": "markdown",
   "id": "95ca120d",
   "metadata": {},
   "source": [
    "* Esta medida está condicionada a um tempo de vida t, isto é, para indivíduos com idade t, a vida média residual mede o tempo médio restante de vida à direita do tempo t \n",
    "dividida por S(t).\n",
    "\n",
    "\n",
    "* E a média do tempo restante de vida para indivíduos com idade $t_0$.\n",
    "\n",
    "\n",
    " ### $vmr(t)=\\frac{\\int_t ^{\\infty} (u-t) f(u)du}{S(t)}= \\frac{\\int_t ^{\\infty} S(u)du}{S(t)}$"
   ]
  },
  {
   "cell_type": "markdown",
   "id": "cdd5d65f",
   "metadata": {},
   "source": [
    "#### 3. Tempo mediano - $T_{md}$\n",
    "\n",
    "É o valor de t correspondente à, é o quantil correspondente a:  \n",
    "\n",
    "### $S(t_{md})=0.5$"
   ]
  },
  {
   "cell_type": "markdown",
   "id": "22167917",
   "metadata": {},
   "source": [
    "## <span style= \"color:red\">Relações entre as principais funções"
   ]
  },
  {
   "cell_type": "markdown",
   "id": "30d37f23",
   "metadata": {},
   "source": [
    "### $S(t) = P(T > t)=1-F(t)$"
   ]
  },
  {
   "cell_type": "markdown",
   "id": "cefe457c",
   "metadata": {},
   "source": [
    "### $S(t) = exp[-H(t)]$"
   ]
  },
  {
   "cell_type": "markdown",
   "id": "591b886e",
   "metadata": {},
   "source": [
    "### $H(t) = -ln[S(t)]$"
   ]
  },
  {
   "cell_type": "markdown",
   "id": "5527d5f0",
   "metadata": {},
   "source": [
    "### $\\lambda(t) = \\frac{f(t)}{S(t)}$"
   ]
  },
  {
   "cell_type": "markdown",
   "id": "b98fe004",
   "metadata": {},
   "source": [
    "### $\\lambda(t) = \\frac{f(t)}{1-F(t)}$"
   ]
  },
  {
   "cell_type": "markdown",
   "id": "d10c969d",
   "metadata": {},
   "source": [
    "### $S(t)=\\frac{vmr(0)}{vmr(t)}exp\\{ - \\int_0 ^t \\frac{du}{vmr(u)}\\}$"
   ]
  },
  {
   "cell_type": "markdown",
   "id": "2b211ce5",
   "metadata": {},
   "source": [
    "### $\\lambda(t)=(\\frac{d \\  vmr(t)}{dt} + 1)/ vmr(t)$\n"
   ]
  },
  {
   "cell_type": "markdown",
   "id": "779bc23f",
   "metadata": {},
   "source": [
    "  "
   ]
  },
  {
   "cell_type": "markdown",
   "id": "cef88f0d",
   "metadata": {},
   "source": [
    "### Exercícios\n",
    "\n",
    "1. Um grande número de indivíduos foi acompanhado para estudar o aparecimento de um certo sintoma. Os indivíduos foram incluídos ao longo do estudo e foi considerado como resposta de interesse a idade em que este sintoma apareceu pela primeira vez. Para os seis indivíduos selecionados e descritos a seguir, identifique o tipo de censura apresentado.\n",
    "\n",
    "\n",
    "    (a) O primeiro indivíduo entrou no estudo com 25 anos já apresentando o sintoma.\n",
    "\n",
    "    (b) Outros dois indivíduos entraram no estudo com 20 e 28 anos e não apresentaram o sintoma até o encerramento do estudo.\n",
    "\n",
    "    (c) Outros dois indivíıduos entraram com 35 e 40 anos e apresentaram o sintoma no segundo e no sexto exames respectivamente, após terem entrado no estudo. Os exames foram realizados a cada dois anos.\n",
    "\n",
    "    (d) O último indivíduo selecionado entrou no estudo com 36 anos e mudou da cidade depois de 4 anos sem ter apresentado o sintoma.\n",
    "\n",
    "\n",
    "2. Mostre que $H(t) = \\int_o ^t λ(u)du = − log S(t)$. \n",
    "\n",
    "\n",
    "3. Suponha que a taxa de falha da variável aleatória tempo de falha T seja expressa pela função linear $ λ(t) = β_0 + β_1 \\ t, com \\ β_0 \\ e \\ β_1 > 0 $. Obtenha $ S(t) \\ e  \\ f (t).$\n",
    "\n",
    "\n",
    "4. Suponha que a vida média residual de T seja dada por $vmr(t) = t + 10$. Obtenha $E(T ), λ(t) \\ e \\ S(t)$."
   ]
  },
  {
   "cell_type": "code",
   "execution_count": null,
   "id": "66a9fd6a",
   "metadata": {},
   "outputs": [],
   "source": []
  }
 ],
 "metadata": {
  "kernelspec": {
   "display_name": "R",
   "language": "R",
   "name": "ir"
  },
  "language_info": {
   "codemirror_mode": "r",
   "file_extension": ".r",
   "mimetype": "text/x-r-source",
   "name": "R",
   "pygments_lexer": "r",
   "version": "4.0.2"
  }
 },
 "nbformat": 4,
 "nbformat_minor": 5
}
